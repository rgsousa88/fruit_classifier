{
 "cells": [
  {
   "cell_type": "code",
   "execution_count": null,
   "id": "68a6681b-358f-4275-927a-65a4f3719f03",
   "metadata": {},
   "outputs": [],
   "source": [
    "!pip install kagglehub"
   ]
  },
  {
   "cell_type": "code",
   "execution_count": null,
   "id": "4514519a-cf1b-49b0-b2ed-9e17a42c35e7",
   "metadata": {
    "scrolled": true
   },
   "outputs": [],
   "source": [
    "!pip install -r requirements.txt"
   ]
  },
  {
   "cell_type": "code",
   "execution_count": null,
   "id": "2eb3cdd4-b448-4553-92ab-f7c44cbe0dd9",
   "metadata": {},
   "outputs": [],
   "source": [
    "import kagglehub\n",
    "\n",
    "path = kagglehub.dataset_download(\"utkarshsaxenadn/fruits-classification\")\n",
    "\n",
    "print(\"Path to dataset files:\", path)"
   ]
  },
  {
   "cell_type": "code",
   "execution_count": null,
   "id": "7c5152c2-1974-4c4b-bbaa-bf17a760d3b6",
   "metadata": {},
   "outputs": [],
   "source": [
    "!git clone -b coding-train-val https://github.com/rgsousa88/fruit_classifier.git"
   ]
  },
  {
   "cell_type": "code",
   "execution_count": null,
   "id": "469af1a4-b9ed-4a1c-9421-6ed299d89712",
   "metadata": {},
   "outputs": [],
   "source": [
    "import os\n",
    "import json\n",
    "\n",
    "with open(\"fruit_classifier/config.json\",'r') as file:\n",
    "  content = json.load(file)\n",
    "\n",
    "# Customize the config file using content dictionary\n",
    "\n",
    "content['model'] = 'swin_v2_t'\n",
    "content['input_size'] = 256\n",
    "content['num_epochs'] = 30\n",
    "content['batch_size'] = 80\n",
    "content['scheduler_param']['step_size'] = 10\n",
    "content['basePath'] = f\"{os.path.join(path,\"Fruits Classification\")}\"\n",
    "\n",
    "# Rewrite config.json with your custom setting\n",
    "with open(\"fruit_classifier/config.json\",'w') as file:\n",
    "   json.dump(content, file, indent=4)"
   ]
  },
  {
   "cell_type": "code",
   "execution_count": null,
   "id": "b90189d5-c37d-4c1e-9314-423b9a4b763c",
   "metadata": {},
   "outputs": [],
   "source": [
    "# Run training...\n",
    "!python  fruit_classifier/train_fruit_classifier.py --config_file fruit_classifier/config.json"
   ]
  }
 ],
 "metadata": {
  "kernelspec": {
   "display_name": "Python 3",
   "language": "python",
   "name": "python3"
  },
  "language_info": {
   "codemirror_mode": {
    "name": "ipython",
    "version": 3
   },
   "file_extension": ".py",
   "mimetype": "text/x-python",
   "name": "python",
   "nbconvert_exporter": "python",
   "pygments_lexer": "ipython3",
   "version": "3.12.11"
  }
 },
 "nbformat": 4,
 "nbformat_minor": 5
}
